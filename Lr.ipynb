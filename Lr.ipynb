{
  "nbformat": 4,
  "nbformat_minor": 0,
  "metadata": {
    "colab": {
      "provenance": [],
      "toc_visible": true,
      "authorship_tag": "ABX9TyM65vIbJhs7N9vSsTRJ0XkW",
      "include_colab_link": true
    },
    "kernelspec": {
      "name": "python3",
      "display_name": "Python 3"
    },
    "language_info": {
      "name": "python"
    }
  },
  "cells": [
    {
      "cell_type": "markdown",
      "metadata": {
        "id": "view-in-github",
        "colab_type": "text"
      },
      "source": [
        "<a href=\"https://colab.research.google.com/github/Ankita8619/ML/blob/main/Lr.ipynb\" target=\"_parent\"><img src=\"https://colab.research.google.com/assets/colab-badge.svg\" alt=\"Open In Colab\"/></a>"
      ]
    },
    {
      "cell_type": "code",
      "source": [
        "import pandas as pd\n",
        "import numpy as np\n",
        "import plotly.graph_objects as go"
      ],
      "metadata": {
        "id": "AQwTIk_YeSiL"
      },
      "execution_count": null,
      "outputs": []
    },
    {
      "cell_type": "code",
      "source": [
        "df1 = pd.read_csv(\"Data1.csv\")"
      ],
      "metadata": {
        "id": "Sj78eQfgeX6y"
      },
      "execution_count": null,
      "outputs": []
    },
    {
      "cell_type": "code",
      "source": [
        "from sklearn.metrics import mean_squared_error, r2_score\n",
        "\n",
        "def linear_regression(X, y):\n",
        "    # Add a column of ones to the input matrix X for the intercept term\n",
        "    X = np.column_stack((np.ones(len(X)), X))\n",
        "\n",
        "    # Calculate the weight vector using X^T*X and X^T*y\n",
        "    w = np.linalg.inv(X.T @ X) @ X.T @ y\n",
        "\n",
        "    return w\n",
        "\n",
        "def mean_squared_error(X, y, w):\n",
        "    # Add a column of ones to the input matrix X for the intercept term\n",
        "    X_with_intercept = np.column_stack((np.ones(len(X)), X))\n",
        "\n",
        "    # Calculate predicted y values\n",
        "    y_predicted = X_with_intercept @ w\n",
        "\n",
        "    # Calculate mean squared error\n",
        "    mse = np.mean((y - y_predicted)**2)\n",
        "\n",
        "    return mse\n",
        "\n",
        "def root_mean_squared_error(X, y, w):\n",
        "    mse = mean_squared_error(X, y, w)\n",
        "    rmse = np.sqrt(mse)\n",
        "    return rmse\n",
        "\n",
        "# Calculate R-squared\n",
        "def r_squared(X, y, w):\n",
        "    # Add a column of ones to the input matrix X for the intercept term\n",
        "    X_with_intercept = np.column_stack((np.ones(len(X)), X))\n",
        "\n",
        "    # Calculate predicted y values\n",
        "    y_predicted = X_with_intercept @ w\n",
        "\n",
        "    # Calculate R-squared\n",
        "    r2 = r2_score(y, y_predicted)\n",
        "\n",
        "    return r2\n",
        "\n",
        "# Assuming X and y are defined\n",
        "X = df1[['x']].values\n",
        "y = df1['y'].values\n",
        "\n",
        "# Perform linear regression\n",
        "w_hat = linear_regression(X, y)\n",
        "\n",
        "# Calculate errors\n",
        "mse = mean_squared_error(X, y, w_hat)\n",
        "rmse = root_mean_squared_error(X, y, w_hat)\n",
        "r2 = r_squared(X, y, w_hat)\n",
        "\n",
        "print(\"Mean Squared Error:\", mse)\n",
        "print(\"Root Mean Squared Error:\", rmse)\n",
        "print(\"R-squared:\", r2)\n",
        "print(w_hat)"
      ],
      "metadata": {
        "colab": {
          "base_uri": "https://localhost:8080/"
        },
        "id": "HPN7njD-41lJ",
        "outputId": "054ded09-309b-455a-ee5a-ea19f9afcad1"
      },
      "execution_count": null,
      "outputs": [
        {
          "output_type": "stream",
          "name": "stdout",
          "text": [
            "Mean Squared Error: 2.078525401777326\n",
            "Root Mean Squared Error: 1.4417091945941547\n",
            "R-squared: 0.9579571905586358\n",
            "[5.68078713 2.38406007]\n"
          ]
        }
      ]
    },
    {
      "cell_type": "code",
      "source": [
        "x_values = np.linspace(min(X), max(X), 100)\n",
        "x_values_with_intercept = np.column_stack((np.ones(len(x_values)), x_values))\n",
        "\n",
        "predicted_y_values = x_values_with_intercept @ w_hat\n",
        "\n",
        "fig = go.Figure()\n",
        "\n",
        "fig.add_trace(go.Scatter(x=X.flatten(), y=y, mode='markers', name='Original Data'))\n",
        "fig.add_trace(go.Scatter(x=x_values.flatten(), y=predicted_y_values, mode='lines', name='Regression Line'))\n",
        "fig.update_layout(title='Linear Regression', xaxis_title='X', yaxis_title='Y')\n",
        "\n",
        "fig.show()"
      ],
      "metadata": {
        "colab": {
          "base_uri": "https://localhost:8080/",
          "height": 542
        },
        "id": "jSB11KB2QBIH",
        "outputId": "aa3d02bb-fc43-4243-a85a-f65b960b08e4"
      },
      "execution_count": null,
      "outputs": [
        {
          "output_type": "display_data",
          "data": {
            "text/html": [
              "<html>\n",
              "<head><meta charset=\"utf-8\" /></head>\n",
              "<body>\n",
              "    <div>            <script src=\"https://cdnjs.cloudflare.com/ajax/libs/mathjax/2.7.5/MathJax.js?config=TeX-AMS-MML_SVG\"></script><script type=\"text/javascript\">if (window.MathJax && window.MathJax.Hub && window.MathJax.Hub.Config) {window.MathJax.Hub.Config({SVG: {font: \"STIX-Web\"}});}</script>                <script type=\"text/javascript\">window.PlotlyConfig = {MathJaxConfig: 'local'};</script>\n",
              "        <script charset=\"utf-8\" src=\"https://cdn.plot.ly/plotly-2.24.1.min.js\"></script>                <div id=\"91537ab2-a50f-4349-8b6f-88febc91a975\" class=\"plotly-graph-div\" style=\"height:525px; width:100%;\"></div>            <script type=\"text/javascript\">                                    window.PLOTLYENV=window.PLOTLYENV || {};                                    if (document.getElementById(\"91537ab2-a50f-4349-8b6f-88febc91a975\")) {                    Plotly.newPlot(                        \"91537ab2-a50f-4349-8b6f-88febc91a975\",                        [{\"mode\":\"markers\",\"name\":\"Original Data\",\"x\":[0.1,0.2,0.3,0.4,0.5,0.6,0.7,0.8,0.9,1.0,1.1,1.2,1.3,1.4,1.5,1.6,1.7,1.8,1.9,2.0,2.1,2.2,2.3,2.4,2.5,2.6,2.7,2.8,2.9,3.0,3.1,3.2,3.3,3.4,3.5,3.6,3.7,3.8,3.9,4.0,4.1,4.2,4.3,4.4,4.5,4.6,4.7,4.8,4.9,5.0,5.1,5.2,5.3,5.4,5.5,5.6,5.7,5.8,5.9,6.0,6.1,6.2,6.3,6.4,6.5,6.6,6.7,6.8,6.9,7.0,7.1,7.2,7.3,7.4,7.5,7.6,7.7,7.8,7.9,8.0,8.1,8.2,8.3,8.4,8.5,8.6,8.7,8.8,8.9,9.0,9.1,9.2,9.3,9.4,9.5,9.6,9.7,9.8,9.9,10.0],\"y\":[8.29813332,4.919282026,4.145139259,6.850787513,6.375322852,8.669000322,5.892481004,5.140961359,7.182105946,7.213212036,9.973354602,10.44698278,9.161841089,9.641131112,9.931191283,11.75007591,11.38056547,8.299219925,10.80440773,9.579552987,11.83050005,12.31880885,12.41958453,12.02188696,13.79658869,14.13202057,11.51771538,10.86080531,11.39279333,13.38472171,11.95745209,12.91386373,13.71959038,11.35151216,12.84962543,13.21787514,16.22009084,14.68530289,13.36892181,12.83373282,17.71943626,15.09282035,15.16144608,14.69057783,17.32059389,16.31741678,18.72100609,16.06993011,16.79940577,16.63185275,18.84230139,16.04231112,16.39271984,18.89625858,21.27580434,20.41205444,19.9056606,21.12027015,18.00697035,20.50041216,18.87756965,18.38337322,22.16151723,20.4027298,20.1408769,21.91378004,20.3988648,20.19237696,21.48313727,23.10370052,20.79742734,24.91228346,21.27969522,24.24765979,22.65830271,26.09434763,24.90291567,23.83055244,26.35800417,23.97764388,23.4336466,27.2634142,26.36623298,24.55827391,23.70155581,24.06742833,28.8112886,26.0968674,27.96320909,29.64047575,26.52356916,29.73415521,26.59023558,28.90557534,29.31671301,28.42069764,27.9846523,30.33685101,30.37628541,27.45376993],\"type\":\"scatter\"},{\"mode\":\"lines\",\"name\":\"Regression Line\",\"x\":[0.1,0.2,0.30000000000000004,0.4,0.5,0.6,0.7000000000000001,0.8,0.9,1.0,1.1,1.2000000000000002,1.3000000000000003,1.4000000000000001,1.5000000000000002,1.6,1.7000000000000002,1.8000000000000003,1.9000000000000001,2.0,2.1,2.2,2.3000000000000003,2.4000000000000004,2.5000000000000004,2.6,2.7,2.8000000000000003,2.9000000000000004,3.0000000000000004,3.1,3.2,3.3000000000000003,3.4000000000000004,3.5000000000000004,3.6,3.7,3.8000000000000003,3.9000000000000004,4.0,4.1,4.2,4.3,4.3999999999999995,4.5,4.6,4.7,4.8,4.9,5.0,5.1,5.2,5.3,5.4,5.5,5.6,5.7,5.8,5.9,6.0,6.1,6.2,6.3,6.4,6.5,6.6,6.7,6.8,6.9,7.0,7.1,7.2,7.3,7.4,7.5,7.6,7.7,7.8,7.9,8.0,8.1,8.2,8.3,8.4,8.5,8.6,8.7,8.8,8.9,9.0,9.1,9.2,9.3,9.4,9.5,9.6,9.700000000000001,9.8,9.9,10.0],\"y\":[5.919193133366951,6.157599139972669,6.396005146578388,6.634411153184106,6.872817159789824,7.111223166395543,7.3496291730012615,7.58803517960698,7.826441186212698,8.064847192818416,8.303253199424134,8.541659206029854,8.780065212635572,9.01847121924129,9.256877225847008,9.495283232452726,9.733689239058446,9.972095245664164,10.210501252269882,10.4489072588756,10.687313265481318,10.925719272087036,11.164125278692755,11.402531285298473,11.64093729190419,11.879343298509909,12.117749305115627,12.356155311721347,12.594561318327065,12.832967324932785,13.071373331538501,13.309779338144219,13.548185344749939,13.786591351355657,14.024997357961375,14.263403364567093,14.501809371172811,14.74021537777853,14.978621384384248,15.217027390989966,15.455433397595684,15.693839404201402,15.93224541080712,16.170651417412838,16.409057424018556,16.647463430624274,16.885869437229992,17.124275443835714,17.362681450441432,17.60108745704715,17.839493463652865,18.077899470258586,18.3163054768643,18.554711483470022,18.79311749007574,19.03152349668146,19.269929503287177,19.508335509892895,19.746741516498616,19.98514752310433,20.22355352971005,20.461959536315767,20.70036554292149,20.938771549527203,21.177177556132925,21.41558356273864,21.65398956934436,21.892395575950076,22.130801582555797,22.369207589161512,22.607613595767234,22.846019602372955,23.08442560897867,23.32283161558439,23.561237622190106,23.799643628795828,24.038049635401542,24.276455642007264,24.51486164861298,24.7532676552187,24.991673661824414,25.230079668430136,25.468485675035858,25.706891681641572,25.945297688247287,26.18370369485301,26.422109701458723,26.660515708064445,26.898921714670166,27.13732772127588,27.375733727881595,27.614139734487317,27.85254574109304,28.090951747698753,28.329357754304475,28.56776376091019,28.80616976751591,29.044575774121633,29.282981780727347,29.52138778733306],\"type\":\"scatter\"}],                        {\"template\":{\"data\":{\"histogram2dcontour\":[{\"type\":\"histogram2dcontour\",\"colorbar\":{\"outlinewidth\":0,\"ticks\":\"\"},\"colorscale\":[[0.0,\"#0d0887\"],[0.1111111111111111,\"#46039f\"],[0.2222222222222222,\"#7201a8\"],[0.3333333333333333,\"#9c179e\"],[0.4444444444444444,\"#bd3786\"],[0.5555555555555556,\"#d8576b\"],[0.6666666666666666,\"#ed7953\"],[0.7777777777777778,\"#fb9f3a\"],[0.8888888888888888,\"#fdca26\"],[1.0,\"#f0f921\"]]}],\"choropleth\":[{\"type\":\"choropleth\",\"colorbar\":{\"outlinewidth\":0,\"ticks\":\"\"}}],\"histogram2d\":[{\"type\":\"histogram2d\",\"colorbar\":{\"outlinewidth\":0,\"ticks\":\"\"},\"colorscale\":[[0.0,\"#0d0887\"],[0.1111111111111111,\"#46039f\"],[0.2222222222222222,\"#7201a8\"],[0.3333333333333333,\"#9c179e\"],[0.4444444444444444,\"#bd3786\"],[0.5555555555555556,\"#d8576b\"],[0.6666666666666666,\"#ed7953\"],[0.7777777777777778,\"#fb9f3a\"],[0.8888888888888888,\"#fdca26\"],[1.0,\"#f0f921\"]]}],\"heatmap\":[{\"type\":\"heatmap\",\"colorbar\":{\"outlinewidth\":0,\"ticks\":\"\"},\"colorscale\":[[0.0,\"#0d0887\"],[0.1111111111111111,\"#46039f\"],[0.2222222222222222,\"#7201a8\"],[0.3333333333333333,\"#9c179e\"],[0.4444444444444444,\"#bd3786\"],[0.5555555555555556,\"#d8576b\"],[0.6666666666666666,\"#ed7953\"],[0.7777777777777778,\"#fb9f3a\"],[0.8888888888888888,\"#fdca26\"],[1.0,\"#f0f921\"]]}],\"heatmapgl\":[{\"type\":\"heatmapgl\",\"colorbar\":{\"outlinewidth\":0,\"ticks\":\"\"},\"colorscale\":[[0.0,\"#0d0887\"],[0.1111111111111111,\"#46039f\"],[0.2222222222222222,\"#7201a8\"],[0.3333333333333333,\"#9c179e\"],[0.4444444444444444,\"#bd3786\"],[0.5555555555555556,\"#d8576b\"],[0.6666666666666666,\"#ed7953\"],[0.7777777777777778,\"#fb9f3a\"],[0.8888888888888888,\"#fdca26\"],[1.0,\"#f0f921\"]]}],\"contourcarpet\":[{\"type\":\"contourcarpet\",\"colorbar\":{\"outlinewidth\":0,\"ticks\":\"\"}}],\"contour\":[{\"type\":\"contour\",\"colorbar\":{\"outlinewidth\":0,\"ticks\":\"\"},\"colorscale\":[[0.0,\"#0d0887\"],[0.1111111111111111,\"#46039f\"],[0.2222222222222222,\"#7201a8\"],[0.3333333333333333,\"#9c179e\"],[0.4444444444444444,\"#bd3786\"],[0.5555555555555556,\"#d8576b\"],[0.6666666666666666,\"#ed7953\"],[0.7777777777777778,\"#fb9f3a\"],[0.8888888888888888,\"#fdca26\"],[1.0,\"#f0f921\"]]}],\"surface\":[{\"type\":\"surface\",\"colorbar\":{\"outlinewidth\":0,\"ticks\":\"\"},\"colorscale\":[[0.0,\"#0d0887\"],[0.1111111111111111,\"#46039f\"],[0.2222222222222222,\"#7201a8\"],[0.3333333333333333,\"#9c179e\"],[0.4444444444444444,\"#bd3786\"],[0.5555555555555556,\"#d8576b\"],[0.6666666666666666,\"#ed7953\"],[0.7777777777777778,\"#fb9f3a\"],[0.8888888888888888,\"#fdca26\"],[1.0,\"#f0f921\"]]}],\"mesh3d\":[{\"type\":\"mesh3d\",\"colorbar\":{\"outlinewidth\":0,\"ticks\":\"\"}}],\"scatter\":[{\"fillpattern\":{\"fillmode\":\"overlay\",\"size\":10,\"solidity\":0.2},\"type\":\"scatter\"}],\"parcoords\":[{\"type\":\"parcoords\",\"line\":{\"colorbar\":{\"outlinewidth\":0,\"ticks\":\"\"}}}],\"scatterpolargl\":[{\"type\":\"scatterpolargl\",\"marker\":{\"colorbar\":{\"outlinewidth\":0,\"ticks\":\"\"}}}],\"bar\":[{\"error_x\":{\"color\":\"#2a3f5f\"},\"error_y\":{\"color\":\"#2a3f5f\"},\"marker\":{\"line\":{\"color\":\"#E5ECF6\",\"width\":0.5},\"pattern\":{\"fillmode\":\"overlay\",\"size\":10,\"solidity\":0.2}},\"type\":\"bar\"}],\"scattergeo\":[{\"type\":\"scattergeo\",\"marker\":{\"colorbar\":{\"outlinewidth\":0,\"ticks\":\"\"}}}],\"scatterpolar\":[{\"type\":\"scatterpolar\",\"marker\":{\"colorbar\":{\"outlinewidth\":0,\"ticks\":\"\"}}}],\"histogram\":[{\"marker\":{\"pattern\":{\"fillmode\":\"overlay\",\"size\":10,\"solidity\":0.2}},\"type\":\"histogram\"}],\"scattergl\":[{\"type\":\"scattergl\",\"marker\":{\"colorbar\":{\"outlinewidth\":0,\"ticks\":\"\"}}}],\"scatter3d\":[{\"type\":\"scatter3d\",\"line\":{\"colorbar\":{\"outlinewidth\":0,\"ticks\":\"\"}},\"marker\":{\"colorbar\":{\"outlinewidth\":0,\"ticks\":\"\"}}}],\"scattermapbox\":[{\"type\":\"scattermapbox\",\"marker\":{\"colorbar\":{\"outlinewidth\":0,\"ticks\":\"\"}}}],\"scatterternary\":[{\"type\":\"scatterternary\",\"marker\":{\"colorbar\":{\"outlinewidth\":0,\"ticks\":\"\"}}}],\"scattercarpet\":[{\"type\":\"scattercarpet\",\"marker\":{\"colorbar\":{\"outlinewidth\":0,\"ticks\":\"\"}}}],\"carpet\":[{\"aaxis\":{\"endlinecolor\":\"#2a3f5f\",\"gridcolor\":\"white\",\"linecolor\":\"white\",\"minorgridcolor\":\"white\",\"startlinecolor\":\"#2a3f5f\"},\"baxis\":{\"endlinecolor\":\"#2a3f5f\",\"gridcolor\":\"white\",\"linecolor\":\"white\",\"minorgridcolor\":\"white\",\"startlinecolor\":\"#2a3f5f\"},\"type\":\"carpet\"}],\"table\":[{\"cells\":{\"fill\":{\"color\":\"#EBF0F8\"},\"line\":{\"color\":\"white\"}},\"header\":{\"fill\":{\"color\":\"#C8D4E3\"},\"line\":{\"color\":\"white\"}},\"type\":\"table\"}],\"barpolar\":[{\"marker\":{\"line\":{\"color\":\"#E5ECF6\",\"width\":0.5},\"pattern\":{\"fillmode\":\"overlay\",\"size\":10,\"solidity\":0.2}},\"type\":\"barpolar\"}],\"pie\":[{\"automargin\":true,\"type\":\"pie\"}]},\"layout\":{\"autotypenumbers\":\"strict\",\"colorway\":[\"#636efa\",\"#EF553B\",\"#00cc96\",\"#ab63fa\",\"#FFA15A\",\"#19d3f3\",\"#FF6692\",\"#B6E880\",\"#FF97FF\",\"#FECB52\"],\"font\":{\"color\":\"#2a3f5f\"},\"hovermode\":\"closest\",\"hoverlabel\":{\"align\":\"left\"},\"paper_bgcolor\":\"white\",\"plot_bgcolor\":\"#E5ECF6\",\"polar\":{\"bgcolor\":\"#E5ECF6\",\"angularaxis\":{\"gridcolor\":\"white\",\"linecolor\":\"white\",\"ticks\":\"\"},\"radialaxis\":{\"gridcolor\":\"white\",\"linecolor\":\"white\",\"ticks\":\"\"}},\"ternary\":{\"bgcolor\":\"#E5ECF6\",\"aaxis\":{\"gridcolor\":\"white\",\"linecolor\":\"white\",\"ticks\":\"\"},\"baxis\":{\"gridcolor\":\"white\",\"linecolor\":\"white\",\"ticks\":\"\"},\"caxis\":{\"gridcolor\":\"white\",\"linecolor\":\"white\",\"ticks\":\"\"}},\"coloraxis\":{\"colorbar\":{\"outlinewidth\":0,\"ticks\":\"\"}},\"colorscale\":{\"sequential\":[[0.0,\"#0d0887\"],[0.1111111111111111,\"#46039f\"],[0.2222222222222222,\"#7201a8\"],[0.3333333333333333,\"#9c179e\"],[0.4444444444444444,\"#bd3786\"],[0.5555555555555556,\"#d8576b\"],[0.6666666666666666,\"#ed7953\"],[0.7777777777777778,\"#fb9f3a\"],[0.8888888888888888,\"#fdca26\"],[1.0,\"#f0f921\"]],\"sequentialminus\":[[0.0,\"#0d0887\"],[0.1111111111111111,\"#46039f\"],[0.2222222222222222,\"#7201a8\"],[0.3333333333333333,\"#9c179e\"],[0.4444444444444444,\"#bd3786\"],[0.5555555555555556,\"#d8576b\"],[0.6666666666666666,\"#ed7953\"],[0.7777777777777778,\"#fb9f3a\"],[0.8888888888888888,\"#fdca26\"],[1.0,\"#f0f921\"]],\"diverging\":[[0,\"#8e0152\"],[0.1,\"#c51b7d\"],[0.2,\"#de77ae\"],[0.3,\"#f1b6da\"],[0.4,\"#fde0ef\"],[0.5,\"#f7f7f7\"],[0.6,\"#e6f5d0\"],[0.7,\"#b8e186\"],[0.8,\"#7fbc41\"],[0.9,\"#4d9221\"],[1,\"#276419\"]]},\"xaxis\":{\"gridcolor\":\"white\",\"linecolor\":\"white\",\"ticks\":\"\",\"title\":{\"standoff\":15},\"zerolinecolor\":\"white\",\"automargin\":true,\"zerolinewidth\":2},\"yaxis\":{\"gridcolor\":\"white\",\"linecolor\":\"white\",\"ticks\":\"\",\"title\":{\"standoff\":15},\"zerolinecolor\":\"white\",\"automargin\":true,\"zerolinewidth\":2},\"scene\":{\"xaxis\":{\"backgroundcolor\":\"#E5ECF6\",\"gridcolor\":\"white\",\"linecolor\":\"white\",\"showbackground\":true,\"ticks\":\"\",\"zerolinecolor\":\"white\",\"gridwidth\":2},\"yaxis\":{\"backgroundcolor\":\"#E5ECF6\",\"gridcolor\":\"white\",\"linecolor\":\"white\",\"showbackground\":true,\"ticks\":\"\",\"zerolinecolor\":\"white\",\"gridwidth\":2},\"zaxis\":{\"backgroundcolor\":\"#E5ECF6\",\"gridcolor\":\"white\",\"linecolor\":\"white\",\"showbackground\":true,\"ticks\":\"\",\"zerolinecolor\":\"white\",\"gridwidth\":2}},\"shapedefaults\":{\"line\":{\"color\":\"#2a3f5f\"}},\"annotationdefaults\":{\"arrowcolor\":\"#2a3f5f\",\"arrowhead\":0,\"arrowwidth\":1},\"geo\":{\"bgcolor\":\"white\",\"landcolor\":\"#E5ECF6\",\"subunitcolor\":\"white\",\"showland\":true,\"showlakes\":true,\"lakecolor\":\"white\"},\"title\":{\"x\":0.05},\"mapbox\":{\"style\":\"light\"}}},\"title\":{\"text\":\"Linear Regression\"},\"xaxis\":{\"title\":{\"text\":\"X\"}},\"yaxis\":{\"title\":{\"text\":\"Y\"}}},                        {\"responsive\": true}                    ).then(function(){\n",
              "                            \n",
              "var gd = document.getElementById('91537ab2-a50f-4349-8b6f-88febc91a975');\n",
              "var x = new MutationObserver(function (mutations, observer) {{\n",
              "        var display = window.getComputedStyle(gd).display;\n",
              "        if (!display || display === 'none') {{\n",
              "            console.log([gd, 'removed!']);\n",
              "            Plotly.purge(gd);\n",
              "            observer.disconnect();\n",
              "        }}\n",
              "}});\n",
              "\n",
              "// Listen for the removal of the full notebook cells\n",
              "var notebookContainer = gd.closest('#notebook-container');\n",
              "if (notebookContainer) {{\n",
              "    x.observe(notebookContainer, {childList: true});\n",
              "}}\n",
              "\n",
              "// Listen for the clearing of the current output cell\n",
              "var outputEl = gd.closest('.output');\n",
              "if (outputEl) {{\n",
              "    x.observe(outputEl, {childList: true});\n",
              "}}\n",
              "\n",
              "                        })                };                            </script>        </div>\n",
              "</body>\n",
              "</html>"
            ]
          },
          "metadata": {}
        }
      ]
    },
    {
      "cell_type": "code",
      "source": [
        "df2=pd.read_csv(\"Data2.csv\")\n",
        "\n",
        "X = df2[['x']].values\n",
        "y = np.log(df2['y']).values\n",
        "\n",
        "# Perform linear regression\n",
        "w_hat = linear_regression(X, y)\n",
        "\n",
        "# Print the estimated weights\n",
        "print(\"Estimated Weights:\", w_hat)"
      ],
      "metadata": {
        "colab": {
          "base_uri": "https://localhost:8080/"
        },
        "id": "j8iN0fEiVvjQ",
        "outputId": "31f441f4-b3bc-4120-ec91-f7e5a878c5fa"
      },
      "execution_count": null,
      "outputs": [
        {
          "output_type": "stream",
          "name": "stdout",
          "text": [
            "Estimated Weights: [3.68212267 0.97299745]\n"
          ]
        }
      ]
    },
    {
      "cell_type": "code",
      "source": [
        "import matplotlib.pyplot as plt\n",
        "\n",
        "# Load the dataset\n",
        "df2 = pd.read_csv(\"Data2.csv\")\n",
        "\n",
        "# Prepare the data\n",
        "X = df2[['x']]\n",
        "y = np.log(df2['y']).values\n",
        "# Perform linear regression\n",
        "# Assuming you have the linear regression coefficients stored in 'w_hat'\n",
        "# Calculate predicted y values\n",
        "X_with_intercept = np.column_stack((np.ones(len(X)), X))\n",
        "y_predicted = X_with_intercept @ w_hat\n",
        "\n",
        "# Plot\n",
        "plt.scatter(X, y, color='blue', label='Actual data')\n",
        "plt.plot(X, y_predicted, color='red', label='Linear regression line')\n",
        "plt.xlabel('x')\n",
        "plt.ylabel('y')\n",
        "plt.title('Linear Regression for Data2')\n",
        "plt.legend()\n",
        "plt.show()\n"
      ],
      "metadata": {
        "colab": {
          "base_uri": "https://localhost:8080/",
          "height": 472
        },
        "id": "mfyXDDx_XRfy",
        "outputId": "18c61500-212c-414b-f976-83636daa5072"
      },
      "execution_count": null,
      "outputs": [
        {
          "output_type": "display_data",
          "data": {
            "text/plain": [
              "<Figure size 640x480 with 1 Axes>"
            ],
            "image/png": "[encoded data removed]"
          },
          "metadata": {}
        }
      ]
    },
    {
      "cell_type": "code",
      "source": [
        "df3=pd.read_csv(\"Data3.csv\")\n",
        "\n",
        "X = df3[['x']].values\n",
        "y = df3['z'].values\n",
        "\n",
        "# Perform linear regression\n",
        "w_hat = linear_regression(X, y)\n",
        "\n",
        "# Print the estimated weights\n",
        "print(\"Estimated Weights:\", w_hat)"
      ],
      "metadata": {
        "colab": {
          "base_uri": "https://localhost:8080/"
        },
        "id": "02tBD6qhJ4TM",
        "outputId": "12c21eb9-c5e0-4cc1-f3bc-5412196b288b"
      },
      "execution_count": null,
      "outputs": [
        {
          "output_type": "stream",
          "name": "stdout",
          "text": [
            "Estimated Weights: [1.17706208 0.09419021]\n"
          ]
        }
      ]
    },
    {
      "cell_type": "code",
      "source": [
        "x_values = np.linspace(min(X), max(X), 100)\n",
        "x_values_with_intercept = np.column_stack((np.ones(len(x_values)), x_values))\n",
        "\n",
        "predicted_y_values = x_values_with_intercept @ w_hat\n",
        "\n",
        "fig = go.Figure()\n",
        "\n",
        "fig.add_trace(go.Scatter(x=X.flatten(), y=y, mode='markers', name='Original Data'))\n",
        "fig.add_trace(go.Scatter(x=x_values.flatten(), y=predicted_y_values, mode='lines', name='Regression Line'))\n",
        "fig.update_layout(title='Linear Regression', xaxis_title='X', yaxis_title='Y')\n",
        "\n",
        "fig.show()"
      ],
      "metadata": {
        "colab": {
          "base_uri": "https://localhost:8080/",
          "height": 542
        },
        "id": "_EzdievOTv5g",
        "outputId": "0715c85a-1df4-4f18-fca0-e688b573dc86"
      },
      "execution_count": null,
      "outputs": [
        {
          "output_type": "display_data",
          "data": {
            "text/html": [
              "<html>\n",
              "<head><meta charset=\"utf-8\" /></head>\n",
              "<body>\n",
              "    <div>            <script src=\"https://cdnjs.cloudflare.com/ajax/libs/mathjax/2.7.5/MathJax.js?config=TeX-AMS-MML_SVG\"></script><script type=\"text/javascript\">if (window.MathJax && window.MathJax.Hub && window.MathJax.Hub.Config) {window.MathJax.Hub.Config({SVG: {font: \"STIX-Web\"}});}</script>                <script type=\"text/javascript\">window.PlotlyConfig = {MathJaxConfig: 'local'};</script>\n",
              "        <script charset=\"utf-8\" src=\"https://cdn.plot.ly/plotly-2.24.1.min.js\"></script>                <div id=\"048eb812-ae74-45a4-b6a3-872d33150c92\" class=\"plotly-graph-div\" style=\"height:525px; width:100%;\"></div>            <script type=\"text/javascript\">                                    window.PLOTLYENV=window.PLOTLYENV || {};                                    if (document.getElementById(\"048eb812-ae74-45a4-b6a3-872d33150c92\")) {                    Plotly.newPlot(                        \"048eb812-ae74-45a4-b6a3-872d33150c92\",                        [{\"mode\":\"markers\",\"name\":\"Original Data\",\"x\":[0.1,0.2,0.3,0.4,0.5,0.6,0.7,0.8,0.9,1.0,1.1,1.2,1.3,1.4,1.5,1.6,1.7,1.8,1.9,2.0,2.1,2.2,2.3,2.4,2.5,2.6,2.7,2.8,2.9,3.0,3.1,3.2,3.3,3.4,3.5,3.6,3.7,3.8,3.9,4.0,4.1,4.2,4.3,4.4,4.5,4.6,4.7,4.8,4.9,5.0,5.1,5.2,5.3,5.4,5.5,5.6,5.7,5.8,5.9,6.0,6.1,6.2,6.3,6.4,6.5,6.6,6.7,6.8,6.9,7.0,7.1,7.2,7.3,7.4,7.5,7.6,7.7,7.8,7.9,8.0,8.1,8.2,8.3,8.4,8.5,8.6,8.7,8.8,8.9,9.0,9.1,9.2,9.3,9.4,9.5,9.6,9.7,9.8,9.9,10.0],\"y\":[1.159562888,1.002380723,0.9359201436,0.01626132943,1.172651629,0.5856829048,1.292097032,1.18972661,1.289481062,1.299157674,1.615497591,1.5995774,1.489348082,0.8827030173,0.4418301555,1.364364062,1.672826088,1.642385467,1.741077415,1.414388497,1.513950301,1.487400191,1.456894134,1.25158484,1.696226656,1.569942299,1.253396233,0.6855130047,1.904516376,1.835776549,1.945898522,1.120317565,1.605356707,1.285168452,1.868135397,1.967465138,1.459457658,0.1045302239,1.764072125,1.984146485,2.067984608,1.89544392,1.604699541,1.9933616,1.778753623,2.062172263,1.732218117,1.883842876,2.05688526,1.17193115,1.996308874,1.904099801,1.836499143,1.745056421,1.418802523,1.649413973,1.657180441,1.782409948,2.114905524,2.077590717,1.923071909,1.638174216,2.142441821,2.215790554,1.821013966,1.836395274,1.733515318,0.2153057948,1.330702118,2.250346268,2.075782255,2.255787546,1.675749334,1.365492571,1.760787218,2.30547832,2.274952292,1.524499408,1.628722553,1.785536916,1.798346334,1.939791582,2.106221485,1.445041261,1.963214138,2.137763059,1.020381356,1.658711684,2.240459211,2.261544017,2.218514347,2.090667671,2.201462133,1.876555475,2.304601673,2.267108312,2.351145316,1.957879577,1.426106322,2.250976421],\"type\":\"scatter\"},{\"mode\":\"lines\",\"name\":\"Regression Line\",\"x\":[0.1,0.2,0.30000000000000004,0.4,0.5,0.6,0.7000000000000001,0.8,0.9,1.0,1.1,1.2000000000000002,1.3000000000000003,1.4000000000000001,1.5000000000000002,1.6,1.7000000000000002,1.8000000000000003,1.9000000000000001,2.0,2.1,2.2,2.3000000000000003,2.4000000000000004,2.5000000000000004,2.6,2.7,2.8000000000000003,2.9000000000000004,3.0000000000000004,3.1,3.2,3.3000000000000003,3.4000000000000004,3.5000000000000004,3.6,3.7,3.8000000000000003,3.9000000000000004,4.0,4.1,4.2,4.3,4.3999999999999995,4.5,4.6,4.7,4.8,4.9,5.0,5.1,5.2,5.3,5.4,5.5,5.6,5.7,5.8,5.9,6.0,6.1,6.2,6.3,6.4,6.5,6.6,6.7,6.8,6.9,7.0,7.1,7.2,7.3,7.4,7.5,7.6,7.7,7.8,7.9,8.0,8.1,8.2,8.3,8.4,8.5,8.6,8.7,8.8,8.9,9.0,9.1,9.2,9.3,9.4,9.5,9.6,9.700000000000001,9.8,9.9,10.0],\"y\":[1.1864810997268125,1.1959001211416305,1.2053191425564482,1.2147381639712662,1.2241571853860842,1.2335762068009022,1.24299522821572,1.252414249630538,1.261833271045356,1.271252292460174,1.280671313874992,1.2900903352898097,1.2995093567046276,1.3089283781194456,1.3183473995342636,1.3277664209490814,1.3371854423638994,1.3466044637787173,1.3560234851935353,1.3654425066083533,1.374861528023171,1.384280549437989,1.393699570852807,1.403118592267625,1.412537613682443,1.4219566350972608,1.4313756565120788,1.4407946779268967,1.4502136993417147,1.4596327207565327,1.4690517421713505,1.4784707635861685,1.4878897850009865,1.4973088064158042,1.5067278278306222,1.5161468492454402,1.5255658706602582,1.5349848920750762,1.544403913489894,1.553822934904712,1.56324195631953,1.5726609777343479,1.5820799991491656,1.5914990205639836,1.6009180419788016,1.6103370633936196,1.6197560848084374,1.6291751062232553,1.6385941276380733,1.6480131490528913,1.657432170467709,1.666851191882527,1.676270213297345,1.685689234712163,1.6951082561269808,1.7045272775417988,1.7139462989566168,1.7233653203714348,1.7327843417862527,1.7422033632010705,1.7516223846158885,1.7610414060307065,1.7704604274455242,1.7798794488603424,1.7892984702751602,1.7987174916899782,1.8081365131047962,1.817555534519614,1.8269745559344321,1.83639357734925,1.845812598764068,1.8552316201788859,1.8646506415937036,1.8740696630085218,1.8834886844233396,1.8929077058381574,1.9023267272529756,1.9117457486677933,1.9211647700826116,1.9305837914974293,1.940002812912247,1.949421834327065,1.958840855741883,1.9682598771567013,1.977678898571519,1.9870979199863368,1.9965169414011548,2.0059359628159728,2.0153549842307905,2.0247740056456087,2.0341930270604265,2.0436120484752447,2.0530310698900625,2.06245009130488,2.0718691127196984,2.081288134134516,2.0907071555493344,2.100126176964152,2.10954519837897,2.118964219793788],\"type\":\"scatter\"}],                        {\"template\":{\"data\":{\"histogram2dcontour\":[{\"type\":\"histogram2dcontour\",\"colorbar\":{\"outlinewidth\":0,\"ticks\":\"\"},\"colorscale\":[[0.0,\"#0d0887\"],[0.1111111111111111,\"#46039f\"],[0.2222222222222222,\"#7201a8\"],[0.3333333333333333,\"#9c179e\"],[0.4444444444444444,\"#bd3786\"],[0.5555555555555556,\"#d8576b\"],[0.6666666666666666,\"#ed7953\"],[0.7777777777777778,\"#fb9f3a\"],[0.8888888888888888,\"#fdca26\"],[1.0,\"#f0f921\"]]}],\"choropleth\":[{\"type\":\"choropleth\",\"colorbar\":{\"outlinewidth\":0,\"ticks\":\"\"}}],\"histogram2d\":[{\"type\":\"histogram2d\",\"colorbar\":{\"outlinewidth\":0,\"ticks\":\"\"},\"colorscale\":[[0.0,\"#0d0887\"],[0.1111111111111111,\"#46039f\"],[0.2222222222222222,\"#7201a8\"],[0.3333333333333333,\"#9c179e\"],[0.4444444444444444,\"#bd3786\"],[0.5555555555555556,\"#d8576b\"],[0.6666666666666666,\"#ed7953\"],[0.7777777777777778,\"#fb9f3a\"],[0.8888888888888888,\"#fdca26\"],[1.0,\"#f0f921\"]]}],\"heatmap\":[{\"type\":\"heatmap\",\"colorbar\":{\"outlinewidth\":0,\"ticks\":\"\"},\"colorscale\":[[0.0,\"#0d0887\"],[0.1111111111111111,\"#46039f\"],[0.2222222222222222,\"#7201a8\"],[0.3333333333333333,\"#9c179e\"],[0.4444444444444444,\"#bd3786\"],[0.5555555555555556,\"#d8576b\"],[0.6666666666666666,\"#ed7953\"],[0.7777777777777778,\"#fb9f3a\"],[0.8888888888888888,\"#fdca26\"],[1.0,\"#f0f921\"]]}],\"heatmapgl\":[{\"type\":\"heatmapgl\",\"colorbar\":{\"outlinewidth\":0,\"ticks\":\"\"},\"colorscale\":[[0.0,\"#0d0887\"],[0.1111111111111111,\"#46039f\"],[0.2222222222222222,\"#7201a8\"],[0.3333333333333333,\"#9c179e\"],[0.4444444444444444,\"#bd3786\"],[0.5555555555555556,\"#d8576b\"],[0.6666666666666666,\"#ed7953\"],[0.7777777777777778,\"#fb9f3a\"],[0.8888888888888888,\"#fdca26\"],[1.0,\"#f0f921\"]]}],\"contourcarpet\":[{\"type\":\"contourcarpet\",\"colorbar\":{\"outlinewidth\":0,\"ticks\":\"\"}}],\"contour\":[{\"type\":\"contour\",\"colorbar\":{\"outlinewidth\":0,\"ticks\":\"\"},\"colorscale\":[[0.0,\"#0d0887\"],[0.1111111111111111,\"#46039f\"],[0.2222222222222222,\"#7201a8\"],[0.3333333333333333,\"#9c179e\"],[0.4444444444444444,\"#bd3786\"],[0.5555555555555556,\"#d8576b\"],[0.6666666666666666,\"#ed7953\"],[0.7777777777777778,\"#fb9f3a\"],[0.8888888888888888,\"#fdca26\"],[1.0,\"#f0f921\"]]}],\"surface\":[{\"type\":\"surface\",\"colorbar\":{\"outlinewidth\":0,\"ticks\":\"\"},\"colorscale\":[[0.0,\"#0d0887\"],[0.1111111111111111,\"#46039f\"],[0.2222222222222222,\"#7201a8\"],[0.3333333333333333,\"#9c179e\"],[0.4444444444444444,\"#bd3786\"],[0.5555555555555556,\"#d8576b\"],[0.6666666666666666,\"#ed7953\"],[0.7777777777777778,\"#fb9f3a\"],[0.8888888888888888,\"#fdca26\"],[1.0,\"#f0f921\"]]}],\"mesh3d\":[{\"type\":\"mesh3d\",\"colorbar\":{\"outlinewidth\":0,\"ticks\":\"\"}}],\"scatter\":[{\"fillpattern\":{\"fillmode\":\"overlay\",\"size\":10,\"solidity\":0.2},\"type\":\"scatter\"}],\"parcoords\":[{\"type\":\"parcoords\",\"line\":{\"colorbar\":{\"outlinewidth\":0,\"ticks\":\"\"}}}],\"scatterpolargl\":[{\"type\":\"scatterpolargl\",\"marker\":{\"colorbar\":{\"outlinewidth\":0,\"ticks\":\"\"}}}],\"bar\":[{\"error_x\":{\"color\":\"#2a3f5f\"},\"error_y\":{\"color\":\"#2a3f5f\"},\"marker\":{\"line\":{\"color\":\"#E5ECF6\",\"width\":0.5},\"pattern\":{\"fillmode\":\"overlay\",\"size\":10,\"solidity\":0.2}},\"type\":\"bar\"}],\"scattergeo\":[{\"type\":\"scattergeo\",\"marker\":{\"colorbar\":{\"outlinewidth\":0,\"ticks\":\"\"}}}],\"scatterpolar\":[{\"type\":\"scatterpolar\",\"marker\":{\"colorbar\":{\"outlinewidth\":0,\"ticks\":\"\"}}}],\"histogram\":[{\"marker\":{\"pattern\":{\"fillmode\":\"overlay\",\"size\":10,\"solidity\":0.2}},\"type\":\"histogram\"}],\"scattergl\":[{\"type\":\"scattergl\",\"marker\":{\"colorbar\":{\"outlinewidth\":0,\"ticks\":\"\"}}}],\"scatter3d\":[{\"type\":\"scatter3d\",\"line\":{\"colorbar\":{\"outlinewidth\":0,\"ticks\":\"\"}},\"marker\":{\"colorbar\":{\"outlinewidth\":0,\"ticks\":\"\"}}}],\"scattermapbox\":[{\"type\":\"scattermapbox\",\"marker\":{\"colorbar\":{\"outlinewidth\":0,\"ticks\":\"\"}}}],\"scatterternary\":[{\"type\":\"scatterternary\",\"marker\":{\"colorbar\":{\"outlinewidth\":0,\"ticks\":\"\"}}}],\"scattercarpet\":[{\"type\":\"scattercarpet\",\"marker\":{\"colorbar\":{\"outlinewidth\":0,\"ticks\":\"\"}}}],\"carpet\":[{\"aaxis\":{\"endlinecolor\":\"#2a3f5f\",\"gridcolor\":\"white\",\"linecolor\":\"white\",\"minorgridcolor\":\"white\",\"startlinecolor\":\"#2a3f5f\"},\"baxis\":{\"endlinecolor\":\"#2a3f5f\",\"gridcolor\":\"white\",\"linecolor\":\"white\",\"minorgridcolor\":\"white\",\"startlinecolor\":\"#2a3f5f\"},\"type\":\"carpet\"}],\"table\":[{\"cells\":{\"fill\":{\"color\":\"#EBF0F8\"},\"line\":{\"color\":\"white\"}},\"header\":{\"fill\":{\"color\":\"#C8D4E3\"},\"line\":{\"color\":\"white\"}},\"type\":\"table\"}],\"barpolar\":[{\"marker\":{\"line\":{\"color\":\"#E5ECF6\",\"width\":0.5},\"pattern\":{\"fillmode\":\"overlay\",\"size\":10,\"solidity\":0.2}},\"type\":\"barpolar\"}],\"pie\":[{\"automargin\":true,\"type\":\"pie\"}]},\"layout\":{\"autotypenumbers\":\"strict\",\"colorway\":[\"#636efa\",\"#EF553B\",\"#00cc96\",\"#ab63fa\",\"#FFA15A\",\"#19d3f3\",\"#FF6692\",\"#B6E880\",\"#FF97FF\",\"#FECB52\"],\"font\":{\"color\":\"#2a3f5f\"},\"hovermode\":\"closest\",\"hoverlabel\":{\"align\":\"left\"},\"paper_bgcolor\":\"white\",\"plot_bgcolor\":\"#E5ECF6\",\"polar\":{\"bgcolor\":\"#E5ECF6\",\"angularaxis\":{\"gridcolor\":\"white\",\"linecolor\":\"white\",\"ticks\":\"\"},\"radialaxis\":{\"gridcolor\":\"white\",\"linecolor\":\"white\",\"ticks\":\"\"}},\"ternary\":{\"bgcolor\":\"#E5ECF6\",\"aaxis\":{\"gridcolor\":\"white\",\"linecolor\":\"white\",\"ticks\":\"\"},\"baxis\":{\"gridcolor\":\"white\",\"linecolor\":\"white\",\"ticks\":\"\"},\"caxis\":{\"gridcolor\":\"white\",\"linecolor\":\"white\",\"ticks\":\"\"}},\"coloraxis\":{\"colorbar\":{\"outlinewidth\":0,\"ticks\":\"\"}},\"colorscale\":{\"sequential\":[[0.0,\"#0d0887\"],[0.1111111111111111,\"#46039f\"],[0.2222222222222222,\"#7201a8\"],[0.3333333333333333,\"#9c179e\"],[0.4444444444444444,\"#bd3786\"],[0.5555555555555556,\"#d8576b\"],[0.6666666666666666,\"#ed7953\"],[0.7777777777777778,\"#fb9f3a\"],[0.8888888888888888,\"#fdca26\"],[1.0,\"#f0f921\"]],\"sequentialminus\":[[0.0,\"#0d0887\"],[0.1111111111111111,\"#46039f\"],[0.2222222222222222,\"#7201a8\"],[0.3333333333333333,\"#9c179e\"],[0.4444444444444444,\"#bd3786\"],[0.5555555555555556,\"#d8576b\"],[0.6666666666666666,\"#ed7953\"],[0.7777777777777778,\"#fb9f3a\"],[0.8888888888888888,\"#fdca26\"],[1.0,\"#f0f921\"]],\"diverging\":[[0,\"#8e0152\"],[0.1,\"#c51b7d\"],[0.2,\"#de77ae\"],[0.3,\"#f1b6da\"],[0.4,\"#fde0ef\"],[0.5,\"#f7f7f7\"],[0.6,\"#e6f5d0\"],[0.7,\"#b8e186\"],[0.8,\"#7fbc41\"],[0.9,\"#4d9221\"],[1,\"#276419\"]]},\"xaxis\":{\"gridcolor\":\"white\",\"linecolor\":\"white\",\"ticks\":\"\",\"title\":{\"standoff\":15},\"zerolinecolor\":\"white\",\"automargin\":true,\"zerolinewidth\":2},\"yaxis\":{\"gridcolor\":\"white\",\"linecolor\":\"white\",\"ticks\":\"\",\"title\":{\"standoff\":15},\"zerolinecolor\":\"white\",\"automargin\":true,\"zerolinewidth\":2},\"scene\":{\"xaxis\":{\"backgroundcolor\":\"#E5ECF6\",\"gridcolor\":\"white\",\"linecolor\":\"white\",\"showbackground\":true,\"ticks\":\"\",\"zerolinecolor\":\"white\",\"gridwidth\":2},\"yaxis\":{\"backgroundcolor\":\"#E5ECF6\",\"gridcolor\":\"white\",\"linecolor\":\"white\",\"showbackground\":true,\"ticks\":\"\",\"zerolinecolor\":\"white\",\"gridwidth\":2},\"zaxis\":{\"backgroundcolor\":\"#E5ECF6\",\"gridcolor\":\"white\",\"linecolor\":\"white\",\"showbackground\":true,\"ticks\":\"\",\"zerolinecolor\":\"white\",\"gridwidth\":2}},\"shapedefaults\":{\"line\":{\"color\":\"#2a3f5f\"}},\"annotationdefaults\":{\"arrowcolor\":\"#2a3f5f\",\"arrowhead\":0,\"arrowwidth\":1},\"geo\":{\"bgcolor\":\"white\",\"landcolor\":\"#E5ECF6\",\"subunitcolor\":\"white\",\"showland\":true,\"showlakes\":true,\"lakecolor\":\"white\"},\"title\":{\"x\":0.05},\"mapbox\":{\"style\":\"light\"}}},\"title\":{\"text\":\"Linear Regression\"},\"xaxis\":{\"title\":{\"text\":\"X\"}},\"yaxis\":{\"title\":{\"text\":\"Y\"}}},                        {\"responsive\": true}                    ).then(function(){\n",
              "                            \n",
              "var gd = document.getElementById('048eb812-ae74-45a4-b6a3-872d33150c92');\n",
              "var x = new MutationObserver(function (mutations, observer) {{\n",
              "        var display = window.getComputedStyle(gd).display;\n",
              "        if (!display || display === 'none') {{\n",
              "            console.log([gd, 'removed!']);\n",
              "            Plotly.purge(gd);\n",
              "            observer.disconnect();\n",
              "        }}\n",
              "}});\n",
              "\n",
              "// Listen for the removal of the full notebook cells\n",
              "var notebookContainer = gd.closest('#notebook-container');\n",
              "if (notebookContainer) {{\n",
              "    x.observe(notebookContainer, {childList: true});\n",
              "}}\n",
              "\n",
              "// Listen for the clearing of the current output cell\n",
              "var outputEl = gd.closest('.output');\n",
              "if (outputEl) {{\n",
              "    x.observe(outputEl, {childList: true});\n",
              "}}\n",
              "\n",
              "                        })                };                            </script>        </div>\n",
              "</body>\n",
              "</html>"
            ]
          },
          "metadata": {}
        }
      ]
    },
    {
      "cell_type": "code",
      "source": [
        "df4 = pd.read_csv(\"Data4.csv\")\n",
        "\n",
        "# Extract features (x1, x2, x3) and output variable y\n",
        "X = df4[['x1', 'x2', 'x3']].values\n",
        "y = df4['y'].values\n",
        "\n",
        "# Perform linear regression\n",
        "w_hat = linear_regression(X, y)\n",
        "\n",
        "# Add a column of ones to the input matrix X for the intercept term\n",
        "X_with_intercept = np.column_stack((np.ones(len(X)), X))\n",
        "\n",
        "# Calculate predicted y values\n",
        "y_predicted = X_with_intercept @ w_hat\n",
        "\n",
        "# Calculate errors\n",
        "mse = mean_squared_error(y, y_predicted)\n",
        "rmse = root_mean_squared_error(y, y_predicted)\n",
        "r2 = r_squared(y, y_predicted)\n",
        "\n",
        "print(\"Mean Squared Error:\", mse)\n",
        "print(\"Root Mean Squared Error:\", rmse)\n",
        "print(\"R-squared:\", r2)\n",
        "print(w_hat)\n"
      ],
      "metadata": {
        "colab": {
          "base_uri": "https://localhost:8080/"
        },
        "id": "PGJDQO3w8rj0",
        "outputId": "8bec8640-02e9-4c86-fdb0-035912976e8a"
      },
      "execution_count": null,
      "outputs": [
        {
          "output_type": "stream",
          "name": "stdout",
          "text": [
            "Mean Squared Error: 34.620480829243554\n",
            "Root Mean Squared Error: 5.883917133104744\n",
            "R-squared: 0.9841749058943147\n",
            "[13.23947782  6.13243763  2.39226554  7.74681038]\n"
          ]
        }
      ]
    },
    {
      "cell_type": "code",
      "source": [
        "def gradientDescent(X_test, Y_test):\n",
        "        \"\"\"\n",
        "        Performs gradient descent optimization.\n",
        "\n",
        "        Args:\n",
        "            X_test: Feature matrix for test data.\n",
        "            Y_test: Target vector for test data.\n",
        "        \"\"\"\n",
        "        input_df = X_test.copy()\n",
        "        input_df.insert(0, \"x0\", 1)\n",
        "        x = np.array([input_df[col] for col in input_df.columns])\n",
        "        xt = x.T\n",
        "        w = np.zeros((1, len(input_df.columns)))\n",
        "        for i in range(100000):\n",
        "            gradient = (w @ x - np.array([Y_test])) @ xt\n",
        "            w = (w - 0.00005 * gradient)\n",
        "\n",
        "gradientDescent(X,y)"
      ],
      "metadata": {
        "id": "18GWqo8FHcnF"
      },
      "execution_count": null,
      "outputs": []
    }
  ]
}